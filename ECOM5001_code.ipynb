{
 "cells": [
  {
   "cell_type": "code",
   "execution_count": 4,
   "metadata": {
    "application/vnd.databricks.v1+cell": {
     "cellMetadata": {},
     "inputWidgets": {},
     "nuid": "4cf7434c-6240-404a-8e9d-0865cb09194e",
     "showTitle": false,
     "title": ""
    }
   },
   "outputs": [],
   "source": [
    "import numpy as np\n",
    "import pandas as pd\n",
    "import seaborn as sns\n",
    "import statsmodels.api as sm\n",
    "import scipy.stats as stats\n",
    "from statsmodels.formula.api import ols\n",
    "from matplotlib import pyplot as plt\n",
    "from sklearn.model_selection import train_test_split\n",
    "from sklearn import preprocessing\n",
    "from sklearn import metrics\n",
    "from sklearn.preprocessing import MinMaxScaler\n",
    "from sklearn.preprocessing import StandardScaler\n",
    "from sklearn.linear_model import LinearRegression\n",
    "from sklearn.metrics import r2_score"
   ]
  },
  {
   "cell_type": "code",
   "execution_count": 5,
   "metadata": {
    "application/vnd.databricks.v1+cell": {
     "cellMetadata": {},
     "inputWidgets": {},
     "nuid": "f8f8d7b5-a657-4216-b737-0eddd46a3fa0",
     "showTitle": false,
     "title": ""
    }
   },
   "outputs": [],
   "source": [
    "df1 = pd.read_csv(\"data_csv.csv\")"
   ]
  },
  {
   "cell_type": "code",
   "execution_count": 6,
   "metadata": {
    "application/vnd.databricks.v1+cell": {
     "cellMetadata": {},
     "inputWidgets": {},
     "nuid": "0cffb97c-431d-45d9-badf-34fd375aa9a0",
     "showTitle": false,
     "title": ""
    }
   },
   "outputs": [
    {
     "name": "stdout",
     "output_type": "stream",
     "text": [
      "<class 'pandas.core.frame.DataFrame'>\n",
      "RangeIndex: 8242 entries, 0 to 8241\n",
      "Data columns (total 12 columns):\n",
      " #   Column            Non-Null Count  Dtype  \n",
      "---  ------            --------------  -----  \n",
      " 0   AccountPk         8242 non-null   int64  \n",
      " 1   TotalBalance      8242 non-null   float64\n",
      " 2   Expenses          8242 non-null   float64\n",
      " 3   EmploymentBasis   7773 non-null   object \n",
      " 4   IncomeBand        8011 non-null   object \n",
      " 5   State             8231 non-null   object \n",
      " 6   FGF Score         8242 non-null   int64  \n",
      " 7   Age               8242 non-null   int64  \n",
      " 8   Age Group         8242 non-null   object \n",
      " 9   Resilience_Score  8242 non-null   float64\n",
      " 10  Segment           8242 non-null   object \n",
      " 11  Clustering        8242 non-null   object \n",
      "dtypes: float64(3), int64(3), object(6)\n",
      "memory usage: 772.8+ KB\n"
     ]
    }
   ],
   "source": [
    "df1.info()"
   ]
  },
  {
   "cell_type": "code",
   "execution_count": 7,
   "metadata": {},
   "outputs": [
    {
     "data": {
      "text/html": [
       "<style  type=\"text/css\" >\n",
       "#T_97566_row0_col0,#T_97566_row1_col1,#T_97566_row2_col2,#T_97566_row3_col3,#T_97566_row4_col4,#T_97566_row5_col5{\n",
       "            background-color:  #b40426;\n",
       "            color:  #f1f1f1;\n",
       "        }#T_97566_row0_col1,#T_97566_row0_col3,#T_97566_row2_col5,#T_97566_row5_col0,#T_97566_row5_col2,#T_97566_row5_col4{\n",
       "            background-color:  #3b4cc0;\n",
       "            color:  #f1f1f1;\n",
       "        }#T_97566_row0_col2{\n",
       "            background-color:  #6485ec;\n",
       "            color:  #000000;\n",
       "        }#T_97566_row0_col4,#T_97566_row1_col4{\n",
       "            background-color:  #4b64d5;\n",
       "            color:  #f1f1f1;\n",
       "        }#T_97566_row0_col5{\n",
       "            background-color:  #506bda;\n",
       "            color:  #000000;\n",
       "        }#T_97566_row1_col0{\n",
       "            background-color:  #3d50c3;\n",
       "            color:  #f1f1f1;\n",
       "        }#T_97566_row1_col2{\n",
       "            background-color:  #8badfd;\n",
       "            color:  #000000;\n",
       "        }#T_97566_row1_col3,#T_97566_row2_col1{\n",
       "            background-color:  #7396f5;\n",
       "            color:  #000000;\n",
       "        }#T_97566_row1_col5{\n",
       "            background-color:  #d55042;\n",
       "            color:  #000000;\n",
       "        }#T_97566_row2_col0{\n",
       "            background-color:  #4e68d8;\n",
       "            color:  #000000;\n",
       "        }#T_97566_row2_col3,#T_97566_row3_col5{\n",
       "            background-color:  #779af7;\n",
       "            color:  #000000;\n",
       "        }#T_97566_row2_col4{\n",
       "            background-color:  #7b9ff9;\n",
       "            color:  #000000;\n",
       "        }#T_97566_row3_col0{\n",
       "            background-color:  #3c4ec2;\n",
       "            color:  #f1f1f1;\n",
       "        }#T_97566_row3_col1{\n",
       "            background-color:  #7295f4;\n",
       "            color:  #000000;\n",
       "        }#T_97566_row3_col2{\n",
       "            background-color:  #8db0fe;\n",
       "            color:  #000000;\n",
       "        }#T_97566_row3_col4{\n",
       "            background-color:  #b3cdfb;\n",
       "            color:  #000000;\n",
       "        }#T_97566_row4_col0{\n",
       "            background-color:  #516ddb;\n",
       "            color:  #000000;\n",
       "        }#T_97566_row4_col1{\n",
       "            background-color:  #4f69d9;\n",
       "            color:  #000000;\n",
       "        }#T_97566_row4_col2{\n",
       "            background-color:  #94b6ff;\n",
       "            color:  #000000;\n",
       "        }#T_97566_row4_col3{\n",
       "            background-color:  #b7cff9;\n",
       "            color:  #000000;\n",
       "        }#T_97566_row4_col5{\n",
       "            background-color:  #5673e0;\n",
       "            color:  #000000;\n",
       "        }#T_97566_row5_col1{\n",
       "            background-color:  #d75445;\n",
       "            color:  #000000;\n",
       "        }#T_97566_row5_col3{\n",
       "            background-color:  #6180e9;\n",
       "            color:  #000000;\n",
       "        }</style><table id=\"T_97566_\" ><thead>    <tr>        <th class=\"blank level0\" ></th>        <th class=\"col_heading level0 col0\" >AccountPk</th>        <th class=\"col_heading level0 col1\" >TotalBalance</th>        <th class=\"col_heading level0 col2\" >Expenses</th>        <th class=\"col_heading level0 col3\" >FGF Score</th>        <th class=\"col_heading level0 col4\" >Age</th>        <th class=\"col_heading level0 col5\" >Resilience_Score</th>    </tr></thead><tbody>\n",
       "                <tr>\n",
       "                        <th id=\"T_97566_level0_row0\" class=\"row_heading level0 row0\" >AccountPk</th>\n",
       "                        <td id=\"T_97566_row0_col0\" class=\"data row0 col0\" >1.00</td>\n",
       "                        <td id=\"T_97566_row0_col1\" class=\"data row0 col1\" >-0.02</td>\n",
       "                        <td id=\"T_97566_row0_col2\" class=\"data row0 col2\" >0.04</td>\n",
       "                        <td id=\"T_97566_row0_col3\" class=\"data row0 col3\" >-0.02</td>\n",
       "                        <td id=\"T_97566_row0_col4\" class=\"data row0 col4\" >0.05</td>\n",
       "                        <td id=\"T_97566_row0_col5\" class=\"data row0 col5\" >-0.03</td>\n",
       "            </tr>\n",
       "            <tr>\n",
       "                        <th id=\"T_97566_level0_row1\" class=\"row_heading level0 row1\" >TotalBalance</th>\n",
       "                        <td id=\"T_97566_row1_col0\" class=\"data row1 col0\" >-0.02</td>\n",
       "                        <td id=\"T_97566_row1_col1\" class=\"data row1 col1\" >1.00</td>\n",
       "                        <td id=\"T_97566_row1_col2\" class=\"data row1 col2\" >0.16</td>\n",
       "                        <td id=\"T_97566_row1_col3\" class=\"data row1 col3\" >0.16</td>\n",
       "                        <td id=\"T_97566_row1_col4\" class=\"data row1 col4\" >0.05</td>\n",
       "                        <td id=\"T_97566_row1_col5\" class=\"data row1 col5\" >0.90</td>\n",
       "            </tr>\n",
       "            <tr>\n",
       "                        <th id=\"T_97566_level0_row2\" class=\"row_heading level0 row2\" >Expenses</th>\n",
       "                        <td id=\"T_97566_row2_col0\" class=\"data row2 col0\" >0.04</td>\n",
       "                        <td id=\"T_97566_row2_col1\" class=\"data row2 col1\" >0.16</td>\n",
       "                        <td id=\"T_97566_row2_col2\" class=\"data row2 col2\" >1.00</td>\n",
       "                        <td id=\"T_97566_row2_col3\" class=\"data row2 col3\" >0.17</td>\n",
       "                        <td id=\"T_97566_row2_col4\" class=\"data row2 col4\" >0.19</td>\n",
       "                        <td id=\"T_97566_row2_col5\" class=\"data row2 col5\" >-0.11</td>\n",
       "            </tr>\n",
       "            <tr>\n",
       "                        <th id=\"T_97566_level0_row3\" class=\"row_heading level0 row3\" >FGF Score</th>\n",
       "                        <td id=\"T_97566_row3_col0\" class=\"data row3 col0\" >-0.02</td>\n",
       "                        <td id=\"T_97566_row3_col1\" class=\"data row3 col1\" >0.16</td>\n",
       "                        <td id=\"T_97566_row3_col2\" class=\"data row3 col2\" >0.17</td>\n",
       "                        <td id=\"T_97566_row3_col3\" class=\"data row3 col3\" >1.00</td>\n",
       "                        <td id=\"T_97566_row3_col4\" class=\"data row3 col4\" >0.36</td>\n",
       "                        <td id=\"T_97566_row3_col5\" class=\"data row3 col5\" >0.10</td>\n",
       "            </tr>\n",
       "            <tr>\n",
       "                        <th id=\"T_97566_level0_row4\" class=\"row_heading level0 row4\" >Age</th>\n",
       "                        <td id=\"T_97566_row4_col0\" class=\"data row4 col0\" >0.05</td>\n",
       "                        <td id=\"T_97566_row4_col1\" class=\"data row4 col1\" >0.05</td>\n",
       "                        <td id=\"T_97566_row4_col2\" class=\"data row4 col2\" >0.19</td>\n",
       "                        <td id=\"T_97566_row4_col3\" class=\"data row4 col3\" >0.36</td>\n",
       "                        <td id=\"T_97566_row4_col4\" class=\"data row4 col4\" >1.00</td>\n",
       "                        <td id=\"T_97566_row4_col5\" class=\"data row4 col5\" >-0.01</td>\n",
       "            </tr>\n",
       "            <tr>\n",
       "                        <th id=\"T_97566_level0_row5\" class=\"row_heading level0 row5\" >Resilience_Score</th>\n",
       "                        <td id=\"T_97566_row5_col0\" class=\"data row5 col0\" >-0.03</td>\n",
       "                        <td id=\"T_97566_row5_col1\" class=\"data row5 col1\" >0.90</td>\n",
       "                        <td id=\"T_97566_row5_col2\" class=\"data row5 col2\" >-0.11</td>\n",
       "                        <td id=\"T_97566_row5_col3\" class=\"data row5 col3\" >0.10</td>\n",
       "                        <td id=\"T_97566_row5_col4\" class=\"data row5 col4\" >-0.01</td>\n",
       "                        <td id=\"T_97566_row5_col5\" class=\"data row5 col5\" >1.00</td>\n",
       "            </tr>\n",
       "    </tbody></table>"
      ],
      "text/plain": [
       "<pandas.io.formats.style.Styler at 0x7fe62a65cfd0>"
      ]
     },
     "execution_count": 7,
     "metadata": {},
     "output_type": "execute_result"
    }
   ],
   "source": [
    "cor = df1.corr(method='pearson')\n",
    "cor.style.background_gradient(cmap='coolwarm').set_precision(2)"
   ]
  },
  {
   "cell_type": "code",
   "execution_count": 8,
   "metadata": {},
   "outputs": [],
   "source": [
    "# Separate the dependent variable and independent variables\n",
    "y = df1['Resilience_Score']\n",
    "X = df1[['TotalBalance', 'Expenses', 'FGF Score','Age']]\n",
    "\n",
    "# Add a constant term to the independent variables\n",
    "X = sm.add_constant(X)"
   ]
  },
  {
   "cell_type": "code",
   "execution_count": 9,
   "metadata": {},
   "outputs": [],
   "source": [
    "# Fit the multiple regression model\n",
    "model = sm.OLS(y, X).fit()"
   ]
  },
  {
   "cell_type": "code",
   "execution_count": 10,
   "metadata": {},
   "outputs": [
    {
     "name": "stdout",
     "output_type": "stream",
     "text": [
      "                            OLS Regression Results                            \n",
      "==============================================================================\n",
      "Dep. Variable:       Resilience_Score   R-squared:                       0.868\n",
      "Model:                            OLS   Adj. R-squared:                  0.868\n",
      "Method:                 Least Squares   F-statistic:                 1.354e+04\n",
      "Date:                Thu, 01 Jun 2023   Prob (F-statistic):               0.00\n",
      "Time:                        19:22:57   Log-Likelihood:                -4546.7\n",
      "No. Observations:                8242   AIC:                             9103.\n",
      "Df Residuals:                    8237   BIC:                             9138.\n",
      "Df Model:                           4                                         \n",
      "Covariance Type:            nonrobust                                         \n",
      "================================================================================\n",
      "                   coef    std err          t      P>|t|      [0.025      0.975]\n",
      "--------------------------------------------------------------------------------\n",
      "const            0.7870      0.034     22.902      0.000       0.720       0.854\n",
      "TotalBalance     0.0010   4.52e-06    228.985      0.000       0.001       0.001\n",
      "Expenses        -0.0007   1.19e-05    -62.254      0.000      -0.001      -0.001\n",
      "FGF Score    -4.896e-06   8.55e-05     -0.057      0.954      -0.000       0.000\n",
      "Age             -0.0005      0.000     -1.133      0.257      -0.001       0.000\n",
      "==============================================================================\n",
      "Omnibus:                     5528.094   Durbin-Watson:                   1.985\n",
      "Prob(Omnibus):                  0.000   Jarque-Bera (JB):           275171.823\n",
      "Skew:                           2.607   Prob(JB):                         0.00\n",
      "Kurtosis:                      30.822   Cond. No.                     1.16e+04\n",
      "==============================================================================\n",
      "\n",
      "Notes:\n",
      "[1] Standard Errors assume that the covariance matrix of the errors is correctly specified.\n",
      "[2] The condition number is large, 1.16e+04. This might indicate that there are\n",
      "strong multicollinearity or other numerical problems.\n"
     ]
    }
   ],
   "source": [
    "# Print the statistical summary\n",
    "print(model.summary())"
   ]
  },
  {
   "cell_type": "code",
   "execution_count": 11,
   "metadata": {
    "application/vnd.databricks.v1+cell": {
     "cellMetadata": {},
     "inputWidgets": {},
     "nuid": "0f414af3-4dc9-44b1-9f01-0fa30be23ceb",
     "showTitle": false,
     "title": ""
    }
   },
   "outputs": [
    {
     "data": {
      "text/html": [
       "<div>\n",
       "<style scoped>\n",
       "    .dataframe tbody tr th:only-of-type {\n",
       "        vertical-align: middle;\n",
       "    }\n",
       "\n",
       "    .dataframe tbody tr th {\n",
       "        vertical-align: top;\n",
       "    }\n",
       "\n",
       "    .dataframe thead th {\n",
       "        text-align: right;\n",
       "    }\n",
       "</style>\n",
       "<table border=\"1\" class=\"dataframe\">\n",
       "  <thead>\n",
       "    <tr style=\"text-align: right;\">\n",
       "      <th></th>\n",
       "      <th>TotalBalance</th>\n",
       "      <th>Expenses</th>\n",
       "      <th>Age</th>\n",
       "      <th>Resilience_Score</th>\n",
       "    </tr>\n",
       "  </thead>\n",
       "  <tbody>\n",
       "    <tr>\n",
       "      <th>0</th>\n",
       "      <td>132.40</td>\n",
       "      <td>469.6900</td>\n",
       "      <td>26</td>\n",
       "      <td>0.281888</td>\n",
       "    </tr>\n",
       "    <tr>\n",
       "      <th>1</th>\n",
       "      <td>673.26</td>\n",
       "      <td>1164.3157</td>\n",
       "      <td>56</td>\n",
       "      <td>0.578245</td>\n",
       "    </tr>\n",
       "    <tr>\n",
       "      <th>2</th>\n",
       "      <td>179.55</td>\n",
       "      <td>919.8907</td>\n",
       "      <td>28</td>\n",
       "      <td>0.195186</td>\n",
       "    </tr>\n",
       "    <tr>\n",
       "      <th>3</th>\n",
       "      <td>718.51</td>\n",
       "      <td>490.0000</td>\n",
       "      <td>39</td>\n",
       "      <td>1.466347</td>\n",
       "    </tr>\n",
       "    <tr>\n",
       "      <th>4</th>\n",
       "      <td>3.39</td>\n",
       "      <td>555.0000</td>\n",
       "      <td>45</td>\n",
       "      <td>0.006108</td>\n",
       "    </tr>\n",
       "    <tr>\n",
       "      <th>...</th>\n",
       "      <td>...</td>\n",
       "      <td>...</td>\n",
       "      <td>...</td>\n",
       "      <td>...</td>\n",
       "    </tr>\n",
       "    <tr>\n",
       "      <th>8237</th>\n",
       "      <td>15.53</td>\n",
       "      <td>1402.4292</td>\n",
       "      <td>48</td>\n",
       "      <td>0.011074</td>\n",
       "    </tr>\n",
       "    <tr>\n",
       "      <th>8238</th>\n",
       "      <td>49.87</td>\n",
       "      <td>850.0315</td>\n",
       "      <td>44</td>\n",
       "      <td>0.058668</td>\n",
       "    </tr>\n",
       "    <tr>\n",
       "      <th>8239</th>\n",
       "      <td>130.03</td>\n",
       "      <td>862.0461</td>\n",
       "      <td>43</td>\n",
       "      <td>0.150839</td>\n",
       "    </tr>\n",
       "    <tr>\n",
       "      <th>8240</th>\n",
       "      <td>87.60</td>\n",
       "      <td>867.1007</td>\n",
       "      <td>25</td>\n",
       "      <td>0.101026</td>\n",
       "    </tr>\n",
       "    <tr>\n",
       "      <th>8241</th>\n",
       "      <td>826.06</td>\n",
       "      <td>815.2100</td>\n",
       "      <td>23</td>\n",
       "      <td>1.013309</td>\n",
       "    </tr>\n",
       "  </tbody>\n",
       "</table>\n",
       "<p>8242 rows × 4 columns</p>\n",
       "</div>"
      ],
      "text/plain": [
       "      TotalBalance   Expenses  Age  Resilience_Score\n",
       "0           132.40   469.6900   26          0.281888\n",
       "1           673.26  1164.3157   56          0.578245\n",
       "2           179.55   919.8907   28          0.195186\n",
       "3           718.51   490.0000   39          1.466347\n",
       "4             3.39   555.0000   45          0.006108\n",
       "...            ...        ...  ...               ...\n",
       "8237         15.53  1402.4292   48          0.011074\n",
       "8238         49.87   850.0315   44          0.058668\n",
       "8239        130.03   862.0461   43          0.150839\n",
       "8240         87.60   867.1007   25          0.101026\n",
       "8241        826.06   815.2100   23          1.013309\n",
       "\n",
       "[8242 rows x 4 columns]"
      ]
     },
     "metadata": {},
     "output_type": "display_data"
    }
   ],
   "source": [
    "df1.dropna(how='all', axis=1, inplace=True)\n",
    "df1.drop (columns = \"EmploymentBasis\",axis=1,inplace=True)\n",
    "df1.drop (columns = \"IncomeBand\",axis=1,inplace=True)\n",
    "df1.drop (columns = \"State\",axis=1,inplace=True)\n",
    "df1.drop (columns = \"Age Group\",axis=1,inplace=True)\n",
    "df1.drop (columns = \"Segment\",axis=1,inplace=True)\n",
    "df1.drop (columns = \"Clustering\",axis=1,inplace=True)\n",
    "df1.drop (columns = \"AccountPk\",axis=1,inplace=True)\n",
    "df1.drop (columns = \"FGF Score\",axis=1,inplace=True)\n",
    "display(df1)"
   ]
  },
  {
   "cell_type": "code",
   "execution_count": 12,
   "metadata": {
    "application/vnd.databricks.v1+cell": {
     "cellMetadata": {},
     "inputWidgets": {},
     "nuid": "3e292d34-31b2-4083-b729-2b40fb8bb979",
     "showTitle": false,
     "title": ""
    }
   },
   "outputs": [
    {
     "data": {
      "text/html": [
       "<div>\n",
       "<style scoped>\n",
       "    .dataframe tbody tr th:only-of-type {\n",
       "        vertical-align: middle;\n",
       "    }\n",
       "\n",
       "    .dataframe tbody tr th {\n",
       "        vertical-align: top;\n",
       "    }\n",
       "\n",
       "    .dataframe thead th {\n",
       "        text-align: right;\n",
       "    }\n",
       "</style>\n",
       "<table border=\"1\" class=\"dataframe\">\n",
       "  <thead>\n",
       "    <tr style=\"text-align: right;\">\n",
       "      <th></th>\n",
       "      <th>TotalBalance</th>\n",
       "      <th>Expenses</th>\n",
       "      <th>Age</th>\n",
       "      <th>Resilience_Score</th>\n",
       "      <th>zscoreTB</th>\n",
       "    </tr>\n",
       "  </thead>\n",
       "  <tbody>\n",
       "    <tr>\n",
       "      <th>0</th>\n",
       "      <td>132.40</td>\n",
       "      <td>469.6900</td>\n",
       "      <td>26</td>\n",
       "      <td>0.281888</td>\n",
       "      <td>-0.612880</td>\n",
       "    </tr>\n",
       "    <tr>\n",
       "      <th>1</th>\n",
       "      <td>673.26</td>\n",
       "      <td>1164.3157</td>\n",
       "      <td>56</td>\n",
       "      <td>0.578245</td>\n",
       "      <td>-0.096153</td>\n",
       "    </tr>\n",
       "    <tr>\n",
       "      <th>2</th>\n",
       "      <td>179.55</td>\n",
       "      <td>919.8907</td>\n",
       "      <td>28</td>\n",
       "      <td>0.195186</td>\n",
       "      <td>-0.567834</td>\n",
       "    </tr>\n",
       "    <tr>\n",
       "      <th>3</th>\n",
       "      <td>718.51</td>\n",
       "      <td>490.0000</td>\n",
       "      <td>39</td>\n",
       "      <td>1.466347</td>\n",
       "      <td>-0.052922</td>\n",
       "    </tr>\n",
       "    <tr>\n",
       "      <th>4</th>\n",
       "      <td>3.39</td>\n",
       "      <td>555.0000</td>\n",
       "      <td>45</td>\n",
       "      <td>0.006108</td>\n",
       "      <td>-0.736133</td>\n",
       "    </tr>\n",
       "  </tbody>\n",
       "</table>\n",
       "</div>"
      ],
      "text/plain": [
       "   TotalBalance   Expenses  Age  Resilience_Score  zscoreTB\n",
       "0        132.40   469.6900   26          0.281888 -0.612880\n",
       "1        673.26  1164.3157   56          0.578245 -0.096153\n",
       "2        179.55   919.8907   28          0.195186 -0.567834\n",
       "3        718.51   490.0000   39          1.466347 -0.052922\n",
       "4          3.39   555.0000   45          0.006108 -0.736133"
      ]
     },
     "execution_count": 12,
     "metadata": {},
     "output_type": "execute_result"
    }
   ],
   "source": [
    "#zscore for TB\n",
    "df1['zscoreTB'] = (df1.TotalBalance - df1.TotalBalance.mean())/df1.TotalBalance.std()\n",
    "df1.head(5)"
   ]
  },
  {
   "cell_type": "code",
   "execution_count": 13,
   "metadata": {
    "application/vnd.databricks.v1+cell": {
     "cellMetadata": {},
     "inputWidgets": {},
     "nuid": "738f14d1-8c6f-403f-9709-629091747fa2",
     "showTitle": false,
     "title": ""
    }
   },
   "outputs": [
    {
     "data": {
      "text/html": [
       "<div>\n",
       "<style scoped>\n",
       "    .dataframe tbody tr th:only-of-type {\n",
       "        vertical-align: middle;\n",
       "    }\n",
       "\n",
       "    .dataframe tbody tr th {\n",
       "        vertical-align: top;\n",
       "    }\n",
       "\n",
       "    .dataframe thead th {\n",
       "        text-align: right;\n",
       "    }\n",
       "</style>\n",
       "<table border=\"1\" class=\"dataframe\">\n",
       "  <thead>\n",
       "    <tr style=\"text-align: right;\">\n",
       "      <th></th>\n",
       "      <th>TotalBalance</th>\n",
       "      <th>Expenses</th>\n",
       "      <th>Age</th>\n",
       "      <th>Resilience_Score</th>\n",
       "      <th>zscoreTB</th>\n",
       "      <th>zscoreExp</th>\n",
       "    </tr>\n",
       "  </thead>\n",
       "  <tbody>\n",
       "    <tr>\n",
       "      <th>0</th>\n",
       "      <td>132.40</td>\n",
       "      <td>469.6900</td>\n",
       "      <td>26</td>\n",
       "      <td>0.281888</td>\n",
       "      <td>-0.612880</td>\n",
       "      <td>-1.349399</td>\n",
       "    </tr>\n",
       "    <tr>\n",
       "      <th>1</th>\n",
       "      <td>673.26</td>\n",
       "      <td>1164.3157</td>\n",
       "      <td>56</td>\n",
       "      <td>0.578245</td>\n",
       "      <td>-0.096153</td>\n",
       "      <td>0.380393</td>\n",
       "    </tr>\n",
       "    <tr>\n",
       "      <th>2</th>\n",
       "      <td>179.55</td>\n",
       "      <td>919.8907</td>\n",
       "      <td>28</td>\n",
       "      <td>0.195186</td>\n",
       "      <td>-0.567834</td>\n",
       "      <td>-0.228287</td>\n",
       "    </tr>\n",
       "    <tr>\n",
       "      <th>3</th>\n",
       "      <td>718.51</td>\n",
       "      <td>490.0000</td>\n",
       "      <td>39</td>\n",
       "      <td>1.466347</td>\n",
       "      <td>-0.052922</td>\n",
       "      <td>-1.298822</td>\n",
       "    </tr>\n",
       "    <tr>\n",
       "      <th>4</th>\n",
       "      <td>3.39</td>\n",
       "      <td>555.0000</td>\n",
       "      <td>45</td>\n",
       "      <td>0.006108</td>\n",
       "      <td>-0.736133</td>\n",
       "      <td>-1.136956</td>\n",
       "    </tr>\n",
       "  </tbody>\n",
       "</table>\n",
       "</div>"
      ],
      "text/plain": [
       "   TotalBalance   Expenses  Age  Resilience_Score  zscoreTB  zscoreExp\n",
       "0        132.40   469.6900   26          0.281888 -0.612880  -1.349399\n",
       "1        673.26  1164.3157   56          0.578245 -0.096153   0.380393\n",
       "2        179.55   919.8907   28          0.195186 -0.567834  -0.228287\n",
       "3        718.51   490.0000   39          1.466347 -0.052922  -1.298822\n",
       "4          3.39   555.0000   45          0.006108 -0.736133  -1.136956"
      ]
     },
     "execution_count": 13,
     "metadata": {},
     "output_type": "execute_result"
    }
   ],
   "source": [
    "#zscore for Exp\n",
    "df1['zscoreExp'] = (df1.Expenses - df1.Expenses.mean())/df1.Expenses.std()\n",
    "df1.head(5)"
   ]
  },
  {
   "cell_type": "code",
   "execution_count": 14,
   "metadata": {
    "application/vnd.databricks.v1+cell": {
     "cellMetadata": {},
     "inputWidgets": {},
     "nuid": "95e3ac29-e6fc-47e9-8b5d-1bdf9a04d26c",
     "showTitle": false,
     "title": ""
    }
   },
   "outputs": [
    {
     "data": {
      "text/html": [
       "<div>\n",
       "<style scoped>\n",
       "    .dataframe tbody tr th:only-of-type {\n",
       "        vertical-align: middle;\n",
       "    }\n",
       "\n",
       "    .dataframe tbody tr th {\n",
       "        vertical-align: top;\n",
       "    }\n",
       "\n",
       "    .dataframe thead th {\n",
       "        text-align: right;\n",
       "    }\n",
       "</style>\n",
       "<table border=\"1\" class=\"dataframe\">\n",
       "  <thead>\n",
       "    <tr style=\"text-align: right;\">\n",
       "      <th></th>\n",
       "      <th>TotalBalance</th>\n",
       "      <th>Expenses</th>\n",
       "      <th>Age</th>\n",
       "      <th>Resilience_Score</th>\n",
       "      <th>zscoreTB</th>\n",
       "      <th>zscoreExp</th>\n",
       "    </tr>\n",
       "  </thead>\n",
       "  <tbody>\n",
       "    <tr>\n",
       "      <th>0</th>\n",
       "      <td>132.40</td>\n",
       "      <td>469.6900</td>\n",
       "      <td>26</td>\n",
       "      <td>0.281888</td>\n",
       "      <td>-0.612880</td>\n",
       "      <td>-1.349399</td>\n",
       "    </tr>\n",
       "    <tr>\n",
       "      <th>1</th>\n",
       "      <td>673.26</td>\n",
       "      <td>1164.3157</td>\n",
       "      <td>56</td>\n",
       "      <td>0.578245</td>\n",
       "      <td>-0.096153</td>\n",
       "      <td>0.380393</td>\n",
       "    </tr>\n",
       "    <tr>\n",
       "      <th>2</th>\n",
       "      <td>179.55</td>\n",
       "      <td>919.8907</td>\n",
       "      <td>28</td>\n",
       "      <td>0.195186</td>\n",
       "      <td>-0.567834</td>\n",
       "      <td>-0.228287</td>\n",
       "    </tr>\n",
       "    <tr>\n",
       "      <th>3</th>\n",
       "      <td>718.51</td>\n",
       "      <td>490.0000</td>\n",
       "      <td>39</td>\n",
       "      <td>1.466347</td>\n",
       "      <td>-0.052922</td>\n",
       "      <td>-1.298822</td>\n",
       "    </tr>\n",
       "    <tr>\n",
       "      <th>4</th>\n",
       "      <td>3.39</td>\n",
       "      <td>555.0000</td>\n",
       "      <td>45</td>\n",
       "      <td>0.006108</td>\n",
       "      <td>-0.736133</td>\n",
       "      <td>-1.136956</td>\n",
       "    </tr>\n",
       "  </tbody>\n",
       "</table>\n",
       "</div>"
      ],
      "text/plain": [
       "   TotalBalance   Expenses  Age  Resilience_Score  zscoreTB  zscoreExp\n",
       "0        132.40   469.6900   26          0.281888 -0.612880  -1.349399\n",
       "1        673.26  1164.3157   56          0.578245 -0.096153   0.380393\n",
       "2        179.55   919.8907   28          0.195186 -0.567834  -0.228287\n",
       "3        718.51   490.0000   39          1.466347 -0.052922  -1.298822\n",
       "4          3.39   555.0000   45          0.006108 -0.736133  -1.136956"
      ]
     },
     "execution_count": 14,
     "metadata": {},
     "output_type": "execute_result"
    }
   ],
   "source": [
    "#zscore outlier detection and removal\n",
    "df_no_outliers = df1[(df1.zscoreTB>-3) & (df1.zscoreTB<3)]\n",
    "df_no_outliers = df1[(df1.zscoreExp>-3) & (df1.zscoreExp<3)]\n",
    "df_no_outliers.head()"
   ]
  },
  {
   "cell_type": "code",
   "execution_count": 15,
   "metadata": {
    "application/vnd.databricks.v1+cell": {
     "cellMetadata": {},
     "inputWidgets": {},
     "nuid": "827a3588-affc-4f63-ac60-ad680dcbfeeb",
     "showTitle": false,
     "title": ""
    }
   },
   "outputs": [
    {
     "name": "stdout",
     "output_type": "stream",
     "text": [
      "norm data with MinMaxScaler\n",
      "      TotalBalance  Expenses       Age  Resilience_Score  zscoreTB  zscoreExp\n",
      "0         0.022185  0.038415  0.135593          0.022515  0.022185   0.038415\n",
      "1         0.112823  0.421435  0.644068          0.046187  0.112823   0.421435\n",
      "2         0.030086  0.286658  0.169492          0.015590  0.030086   0.286658\n",
      "3         0.120407  0.049614  0.355932          0.117125  0.120407   0.049614\n",
      "4         0.000565  0.085456  0.457627          0.000487  0.000565   0.085456\n",
      "...            ...       ...       ...               ...       ...        ...\n",
      "8149      0.002599  0.552732  0.508475          0.000884  0.002599   0.552732\n",
      "8150      0.008354  0.248137  0.440678          0.004685  0.008354   0.248137\n",
      "8151      0.021787  0.254762  0.423729          0.012047  0.021787   0.254762\n",
      "8152      0.014677  0.257550  0.118644          0.008069  0.014677   0.257550\n",
      "8153      0.138430  0.228937  0.084746          0.080938  0.138430   0.228937\n",
      "\n",
      "[8154 rows x 6 columns]\n"
     ]
    }
   ],
   "source": [
    "#normalising the data of X\n",
    "scaler = MinMaxScaler()\n",
    "normalized_data = scaler.fit_transform(df_no_outliers)\n",
    "\n",
    "norm_df = pd.DataFrame(normalized_data, columns = df_no_outliers.columns)\n",
    "\n",
    "print('norm data with MinMaxScaler')\n",
    "print(norm_df)"
   ]
  },
  {
   "cell_type": "code",
   "execution_count": 16,
   "metadata": {},
   "outputs": [
    {
     "name": "stdout",
     "output_type": "stream",
     "text": [
      "(8154,)\n",
      "(8154, 3)\n"
     ]
    }
   ],
   "source": [
    "# Separate the dependent variable and independent variables\n",
    "y2 = norm_df['Resilience_Score']\n",
    "X2 = norm_df[['TotalBalance', 'Expenses','Age']]\n",
    "\n",
    "print(y2.shape)  # shape of the dependent variable\n",
    "print(X2.shape)\n",
    "\n",
    "# Add a constant term to the independent variables\n",
    "X2 = sm.add_constant(X2)"
   ]
  },
  {
   "cell_type": "code",
   "execution_count": 17,
   "metadata": {},
   "outputs": [],
   "source": [
    "# Fit the multiple regression model\n",
    "model1 = sm.OLS(y2, X2).fit()"
   ]
  },
  {
   "cell_type": "code",
   "execution_count": 18,
   "metadata": {},
   "outputs": [
    {
     "name": "stdout",
     "output_type": "stream",
     "text": [
      "                            OLS Regression Results                            \n",
      "==============================================================================\n",
      "Dep. Variable:       Resilience_Score   R-squared:                       0.874\n",
      "Model:                            OLS   Adj. R-squared:                  0.874\n",
      "Method:                 Least Squares   F-statistic:                 1.881e+04\n",
      "Date:                Thu, 01 Jun 2023   Prob (F-statistic):               0.00\n",
      "Time:                        19:22:59   Log-Likelihood:                 16264.\n",
      "No. Observations:                8154   AIC:                        -3.252e+04\n",
      "Df Residuals:                    8150   BIC:                        -3.249e+04\n",
      "Df Model:                           3                                         \n",
      "Covariance Type:            nonrobust                                         \n",
      "================================================================================\n",
      "                   coef    std err          t      P>|t|      [0.025      0.975]\n",
      "--------------------------------------------------------------------------------\n",
      "const            0.0386      0.001     43.502      0.000       0.037       0.040\n",
      "TotalBalance     0.4993      0.002    235.976      0.000       0.495       0.503\n",
      "Expenses        -0.1117      0.002    -62.239      0.000      -0.115      -0.108\n",
      "Age             -0.0024      0.002     -1.219      0.223      -0.006       0.001\n",
      "==============================================================================\n",
      "Omnibus:                     5564.934   Durbin-Watson:                   1.987\n",
      "Prob(Omnibus):                  0.000   Jarque-Bera (JB):           282631.295\n",
      "Skew:                           2.672   Prob(JB):                         0.00\n",
      "Kurtosis:                      31.343   Cond. No.                         6.67\n",
      "==============================================================================\n",
      "\n",
      "Notes:\n",
      "[1] Standard Errors assume that the covariance matrix of the errors is correctly specified.\n"
     ]
    }
   ],
   "source": [
    "# Print the statistical summary\n",
    "print(model1.summary())"
   ]
  },
  {
   "cell_type": "code",
   "execution_count": 19,
   "metadata": {
    "application/vnd.databricks.v1+cell": {
     "cellMetadata": {},
     "inputWidgets": {},
     "nuid": "9b65f064-55d0-42b7-8fa5-1247c93fe751",
     "showTitle": false,
     "title": ""
    }
   },
   "outputs": [
    {
     "data": {
      "text/html": [
       "<div>\n",
       "<style scoped>\n",
       "    .dataframe tbody tr th:only-of-type {\n",
       "        vertical-align: middle;\n",
       "    }\n",
       "\n",
       "    .dataframe tbody tr th {\n",
       "        vertical-align: top;\n",
       "    }\n",
       "\n",
       "    .dataframe thead th {\n",
       "        text-align: right;\n",
       "    }\n",
       "</style>\n",
       "<table border=\"1\" class=\"dataframe\">\n",
       "  <thead>\n",
       "    <tr style=\"text-align: right;\">\n",
       "      <th></th>\n",
       "      <th>TotalBalance</th>\n",
       "      <th>Expenses</th>\n",
       "      <th>Age</th>\n",
       "    </tr>\n",
       "  </thead>\n",
       "  <tbody>\n",
       "    <tr>\n",
       "      <th>0</th>\n",
       "      <td>132.40</td>\n",
       "      <td>469.6900</td>\n",
       "      <td>26</td>\n",
       "    </tr>\n",
       "    <tr>\n",
       "      <th>1</th>\n",
       "      <td>673.26</td>\n",
       "      <td>1164.3157</td>\n",
       "      <td>56</td>\n",
       "    </tr>\n",
       "    <tr>\n",
       "      <th>2</th>\n",
       "      <td>179.55</td>\n",
       "      <td>919.8907</td>\n",
       "      <td>28</td>\n",
       "    </tr>\n",
       "    <tr>\n",
       "      <th>3</th>\n",
       "      <td>718.51</td>\n",
       "      <td>490.0000</td>\n",
       "      <td>39</td>\n",
       "    </tr>\n",
       "    <tr>\n",
       "      <th>4</th>\n",
       "      <td>3.39</td>\n",
       "      <td>555.0000</td>\n",
       "      <td>45</td>\n",
       "    </tr>\n",
       "    <tr>\n",
       "      <th>...</th>\n",
       "      <td>...</td>\n",
       "      <td>...</td>\n",
       "      <td>...</td>\n",
       "    </tr>\n",
       "    <tr>\n",
       "      <th>8237</th>\n",
       "      <td>15.53</td>\n",
       "      <td>1402.4292</td>\n",
       "      <td>48</td>\n",
       "    </tr>\n",
       "    <tr>\n",
       "      <th>8238</th>\n",
       "      <td>49.87</td>\n",
       "      <td>850.0315</td>\n",
       "      <td>44</td>\n",
       "    </tr>\n",
       "    <tr>\n",
       "      <th>8239</th>\n",
       "      <td>130.03</td>\n",
       "      <td>862.0461</td>\n",
       "      <td>43</td>\n",
       "    </tr>\n",
       "    <tr>\n",
       "      <th>8240</th>\n",
       "      <td>87.60</td>\n",
       "      <td>867.1007</td>\n",
       "      <td>25</td>\n",
       "    </tr>\n",
       "    <tr>\n",
       "      <th>8241</th>\n",
       "      <td>826.06</td>\n",
       "      <td>815.2100</td>\n",
       "      <td>23</td>\n",
       "    </tr>\n",
       "  </tbody>\n",
       "</table>\n",
       "<p>8154 rows × 3 columns</p>\n",
       "</div>"
      ],
      "text/plain": [
       "      TotalBalance   Expenses  Age\n",
       "0           132.40   469.6900   26\n",
       "1           673.26  1164.3157   56\n",
       "2           179.55   919.8907   28\n",
       "3           718.51   490.0000   39\n",
       "4             3.39   555.0000   45\n",
       "...            ...        ...  ...\n",
       "8237         15.53  1402.4292   48\n",
       "8238         49.87   850.0315   44\n",
       "8239        130.03   862.0461   43\n",
       "8240         87.60   867.1007   25\n",
       "8241        826.06   815.2100   23\n",
       "\n",
       "[8154 rows x 3 columns]"
      ]
     },
     "execution_count": 19,
     "metadata": {},
     "output_type": "execute_result"
    }
   ],
   "source": [
    "#X contains tb, expenses and age and y contains resilience score\n",
    "X = df_no_outliers.iloc[:,:3] # 1t for rows and second for columns\n",
    "y = df_no_outliers['Resilience_Score']\n",
    "X"
   ]
  },
  {
   "cell_type": "code",
   "execution_count": 20,
   "metadata": {
    "application/vnd.databricks.v1+cell": {
     "cellMetadata": {},
     "inputWidgets": {},
     "nuid": "4fadcc8f-f539-4452-a5b7-8f6e4c7e7068",
     "showTitle": false,
     "title": ""
    }
   },
   "outputs": [],
   "source": [
    "#split the dataset into train and test with 80-20 ratio\n",
    "X_train, X_test, y_train, y_test = train_test_split(X, y, test_size=0.2, random_state=42)"
   ]
  },
  {
   "cell_type": "code",
   "execution_count": 21,
   "metadata": {
    "application/vnd.databricks.v1+cell": {
     "cellMetadata": {},
     "inputWidgets": {},
     "nuid": "83d6170c-c354-4cb2-b9ef-5fd331868357",
     "showTitle": false,
     "title": ""
    }
   },
   "outputs": [
    {
     "data": {
      "text/html": [
       "<div>\n",
       "<style scoped>\n",
       "    .dataframe tbody tr th:only-of-type {\n",
       "        vertical-align: middle;\n",
       "    }\n",
       "\n",
       "    .dataframe tbody tr th {\n",
       "        vertical-align: top;\n",
       "    }\n",
       "\n",
       "    .dataframe thead th {\n",
       "        text-align: right;\n",
       "    }\n",
       "</style>\n",
       "<table border=\"1\" class=\"dataframe\">\n",
       "  <thead>\n",
       "    <tr style=\"text-align: right;\">\n",
       "      <th></th>\n",
       "      <th>TotalBalance</th>\n",
       "      <th>Expenses</th>\n",
       "      <th>Age</th>\n",
       "    </tr>\n",
       "  </thead>\n",
       "  <tbody>\n",
       "    <tr>\n",
       "      <th>295</th>\n",
       "      <td>132.75</td>\n",
       "      <td>649.9346</td>\n",
       "      <td>25</td>\n",
       "    </tr>\n",
       "    <tr>\n",
       "      <th>6027</th>\n",
       "      <td>3101.03</td>\n",
       "      <td>1009.8780</td>\n",
       "      <td>45</td>\n",
       "    </tr>\n",
       "    <tr>\n",
       "      <th>3822</th>\n",
       "      <td>373.32</td>\n",
       "      <td>950.2500</td>\n",
       "      <td>34</td>\n",
       "    </tr>\n",
       "    <tr>\n",
       "      <th>3810</th>\n",
       "      <td>156.36</td>\n",
       "      <td>1489.5003</td>\n",
       "      <td>23</td>\n",
       "    </tr>\n",
       "    <tr>\n",
       "      <th>6778</th>\n",
       "      <td>86.70</td>\n",
       "      <td>831.4592</td>\n",
       "      <td>61</td>\n",
       "    </tr>\n",
       "    <tr>\n",
       "      <th>...</th>\n",
       "      <td>...</td>\n",
       "      <td>...</td>\n",
       "      <td>...</td>\n",
       "    </tr>\n",
       "    <tr>\n",
       "      <th>5282</th>\n",
       "      <td>238.00</td>\n",
       "      <td>1007.9715</td>\n",
       "      <td>40</td>\n",
       "    </tr>\n",
       "    <tr>\n",
       "      <th>5448</th>\n",
       "      <td>228.53</td>\n",
       "      <td>542.1161</td>\n",
       "      <td>63</td>\n",
       "    </tr>\n",
       "    <tr>\n",
       "      <th>862</th>\n",
       "      <td>904.78</td>\n",
       "      <td>998.7723</td>\n",
       "      <td>41</td>\n",
       "    </tr>\n",
       "    <tr>\n",
       "      <th>7687</th>\n",
       "      <td>85.88</td>\n",
       "      <td>595.2884</td>\n",
       "      <td>31</td>\n",
       "    </tr>\n",
       "    <tr>\n",
       "      <th>7347</th>\n",
       "      <td>698.06</td>\n",
       "      <td>1996.8923</td>\n",
       "      <td>40</td>\n",
       "    </tr>\n",
       "  </tbody>\n",
       "</table>\n",
       "<p>6523 rows × 3 columns</p>\n",
       "</div>"
      ],
      "text/plain": [
       "      TotalBalance   Expenses  Age\n",
       "295         132.75   649.9346   25\n",
       "6027       3101.03  1009.8780   45\n",
       "3822        373.32   950.2500   34\n",
       "3810        156.36  1489.5003   23\n",
       "6778         86.70   831.4592   61\n",
       "...            ...        ...  ...\n",
       "5282        238.00  1007.9715   40\n",
       "5448        228.53   542.1161   63\n",
       "862         904.78   998.7723   41\n",
       "7687         85.88   595.2884   31\n",
       "7347        698.06  1996.8923   40\n",
       "\n",
       "[6523 rows x 3 columns]"
      ]
     },
     "execution_count": 21,
     "metadata": {},
     "output_type": "execute_result"
    }
   ],
   "source": [
    "X_train"
   ]
  },
  {
   "cell_type": "code",
   "execution_count": 22,
   "metadata": {
    "application/vnd.databricks.v1+cell": {
     "cellMetadata": {},
     "inputWidgets": {},
     "nuid": "f68330c6-d7c5-40ad-a7e3-21e3b356e793",
     "showTitle": false,
     "title": ""
    }
   },
   "outputs": [
    {
     "data": {
      "text/plain": [
       "((6523, 3), (1631, 3))"
      ]
     },
     "execution_count": 22,
     "metadata": {},
     "output_type": "execute_result"
    }
   ],
   "source": [
    "X_train.shape, X_test.shape"
   ]
  },
  {
   "cell_type": "code",
   "execution_count": 23,
   "metadata": {
    "application/vnd.databricks.v1+cell": {
     "cellMetadata": {},
     "inputWidgets": {},
     "nuid": "ccff1170-6004-4489-ad02-4ba39e847ec6",
     "showTitle": false,
     "title": ""
    }
   },
   "outputs": [
    {
     "data": {
      "text/plain": [
       "((6523,), (1631,))"
      ]
     },
     "execution_count": 23,
     "metadata": {},
     "output_type": "execute_result"
    }
   ],
   "source": [
    "y_train.shape, y_test.shape"
   ]
  },
  {
   "cell_type": "code",
   "execution_count": 24,
   "metadata": {
    "application/vnd.databricks.v1+cell": {
     "cellMetadata": {},
     "inputWidgets": {},
     "nuid": "62a93e19-34b3-4c68-88b0-09097f636dee",
     "showTitle": false,
     "title": ""
    }
   },
   "outputs": [
    {
     "data": {
      "text/plain": [
       "LinearRegression()"
      ]
     },
     "execution_count": 24,
     "metadata": {},
     "output_type": "execute_result"
    }
   ],
   "source": [
    "mlr = LinearRegression()  \n",
    "mlr.fit(X_train, y_train)"
   ]
  },
  {
   "cell_type": "code",
   "execution_count": 25,
   "metadata": {
    "application/vnd.databricks.v1+cell": {
     "cellMetadata": {},
     "inputWidgets": {},
     "nuid": "cd6953f1-92e9-4aaf-9136-e4bc748bc5a7",
     "showTitle": false,
     "title": ""
    }
   },
   "outputs": [
    {
     "name": "stdout",
     "output_type": "stream",
     "text": [
      "Intercept:  0.795360340118781\n",
      "Coefficients:\n"
     ]
    },
    {
     "data": {
      "text/plain": [
       "[('TotalBalance', 0.0010463995512215584),\n",
       " ('Expenses', -0.0007691079141473509),\n",
       " ('Age', -0.000379798973888944)]"
      ]
     },
     "execution_count": 25,
     "metadata": {},
     "output_type": "execute_result"
    }
   ],
   "source": [
    "print(\"Intercept: \", mlr.intercept_)\n",
    "print(\"Coefficients:\")\n",
    "list(zip(X, mlr.coef_))"
   ]
  },
  {
   "cell_type": "code",
   "execution_count": 26,
   "metadata": {
    "application/vnd.databricks.v1+cell": {
     "cellMetadata": {},
     "inputWidgets": {},
     "nuid": "6a92eec8-fafb-42b3-a07e-b824685d1165",
     "showTitle": false,
     "title": ""
    }
   },
   "outputs": [
    {
     "name": "stdout",
     "output_type": "stream",
     "text": [
      "Prediction for test set: [0.6085677  0.99660209 0.46472812 ... 1.09139267 3.19539446 0.25410478]\n"
     ]
    }
   ],
   "source": [
    "#Prediction of test set\n",
    "y_pred_mlr= mlr.predict(X_test)\n",
    "#Predicted values\n",
    "print(\"Prediction for test set: {}\".format(y_pred_mlr))"
   ]
  },
  {
   "cell_type": "code",
   "execution_count": 27,
   "metadata": {
    "application/vnd.databricks.v1+cell": {
     "cellMetadata": {},
     "inputWidgets": {},
     "nuid": "c286224e-034e-4060-9c40-937f114f1a6b",
     "showTitle": false,
     "title": ""
    }
   },
   "outputs": [
    {
     "data": {
      "text/html": [
       "<div>\n",
       "<style scoped>\n",
       "    .dataframe tbody tr th:only-of-type {\n",
       "        vertical-align: middle;\n",
       "    }\n",
       "\n",
       "    .dataframe tbody tr th {\n",
       "        vertical-align: top;\n",
       "    }\n",
       "\n",
       "    .dataframe thead th {\n",
       "        text-align: right;\n",
       "    }\n",
       "</style>\n",
       "<table border=\"1\" class=\"dataframe\">\n",
       "  <thead>\n",
       "    <tr style=\"text-align: right;\">\n",
       "      <th></th>\n",
       "      <th>Actual value</th>\n",
       "      <th>Predicted value</th>\n",
       "    </tr>\n",
       "  </thead>\n",
       "  <tbody>\n",
       "    <tr>\n",
       "      <th>4383</th>\n",
       "      <td>0.561339</td>\n",
       "      <td>0.608568</td>\n",
       "    </tr>\n",
       "    <tr>\n",
       "      <th>1205</th>\n",
       "      <td>1.174391</td>\n",
       "      <td>0.996602</td>\n",
       "    </tr>\n",
       "    <tr>\n",
       "      <th>7204</th>\n",
       "      <td>0.538883</td>\n",
       "      <td>0.464728</td>\n",
       "    </tr>\n",
       "    <tr>\n",
       "      <th>1769</th>\n",
       "      <td>0.019046</td>\n",
       "      <td>0.063497</td>\n",
       "    </tr>\n",
       "    <tr>\n",
       "      <th>929</th>\n",
       "      <td>4.510041</td>\n",
       "      <td>3.984079</td>\n",
       "    </tr>\n",
       "  </tbody>\n",
       "</table>\n",
       "</div>"
      ],
      "text/plain": [
       "      Actual value  Predicted value\n",
       "4383      0.561339         0.608568\n",
       "1205      1.174391         0.996602\n",
       "7204      0.538883         0.464728\n",
       "1769      0.019046         0.063497\n",
       "929       4.510041         3.984079"
      ]
     },
     "execution_count": 27,
     "metadata": {},
     "output_type": "execute_result"
    }
   ],
   "source": [
    "#table showing the actual value and the predicted value from the model \n",
    "mlr_diff = pd.DataFrame({'Actual value': y_test, 'Predicted value': y_pred_mlr})\n",
    "mlr_diff.head()"
   ]
  },
  {
   "cell_type": "code",
   "execution_count": 28,
   "metadata": {
    "application/vnd.databricks.v1+cell": {
     "cellMetadata": {},
     "inputWidgets": {},
     "nuid": "cb4c8df5-4850-4553-a8a9-9cd83addae22",
     "showTitle": false,
     "title": ""
    }
   },
   "outputs": [
    {
     "name": "stdout",
     "output_type": "stream",
     "text": [
      "R squared: 87.38\n",
      "Mean Absolute Error: 0.23240352490928387\n",
      "Mean Square Error: 0.15957769623877158\n",
      "Root Mean Square Error: 0.3994717715168014\n"
     ]
    }
   ],
   "source": [
    "#model evaluation which looks into the regression statistics\n",
    "meanAbErr = metrics.mean_absolute_error(y_test, y_pred_mlr)\n",
    "meanSqErr = metrics.mean_squared_error(y_test, y_pred_mlr)\n",
    "rootMeanSqErr = np.sqrt(metrics.mean_squared_error(y_test, y_pred_mlr))\n",
    "print('R squared: {:.2f}'.format(mlr.score(X,y)*100))\n",
    "print('Mean Absolute Error:', meanAbErr)\n",
    "print('Mean Square Error:', meanSqErr)\n",
    "print('Root Mean Square Error:', rootMeanSqErr)"
   ]
  },
  {
   "cell_type": "code",
   "execution_count": 29,
   "metadata": {
    "application/vnd.databricks.v1+cell": {
     "cellMetadata": {},
     "inputWidgets": {},
     "nuid": "07b7bbea-a058-46f7-b4df-4056e9ce39c9",
     "showTitle": false,
     "title": ""
    }
   },
   "outputs": [
    {
     "name": "stdout",
     "output_type": "stream",
     "text": [
      "Accuracy of the model is 88.02\n"
     ]
    }
   ],
   "source": [
    "#evaluate the model and check the accuracy \n",
    "Accuracy = r2_score(y_test,y_pred_mlr)*100\n",
    "print(\"Accuracy of the model is %.2f\" %Accuracy)"
   ]
  },
  {
   "cell_type": "code",
   "execution_count": 30,
   "metadata": {
    "application/vnd.databricks.v1+cell": {
     "cellMetadata": {},
     "inputWidgets": {},
     "nuid": "9cfbd06e-8a90-4bb9-becf-d8dde2a05c44",
     "showTitle": false,
     "title": ""
    }
   },
   "outputs": [
    {
     "data": {
      "text/plain": [
       "Text(0, 0.5, 'Predicted')"
      ]
     },
     "execution_count": 30,
     "metadata": {},
     "output_type": "execute_result"
    },
    {
     "data": {
      "image/png": "[encoded data removed]",
      "text/plain": [
       "<Figure size 432x288 with 1 Axes>"
      ]
     },
     "metadata": {
      "needs_background": "light"
     },
     "output_type": "display_data"
    }
   ],
   "source": [
    "#plot the results\n",
    "plt.scatter(y_test,y_pred_mlr)\n",
    "plt.xlabel('Actual')\n",
    "plt.ylabel('Predicted')\n"
   ]
  },
  {
   "cell_type": "code",
   "execution_count": 31,
   "metadata": {
    "application/vnd.databricks.v1+cell": {
     "cellMetadata": {},
     "inputWidgets": {},
     "nuid": "46cf29fd-a7a2-4e34-8192-ccd13247aec9",
     "showTitle": false,
     "title": ""
    }
   },
   "outputs": [
    {
     "data": {
      "text/plain": [
       "Text(0, 0.5, 'Predicted')"
      ]
     },
     "execution_count": 31,
     "metadata": {},
     "output_type": "execute_result"
    },
    {
     "data": {
      "image/png": "[encoded data removed]",
      "text/plain": [
       "<Figure size 432x288 with 1 Axes>"
      ]
     },
     "metadata": {
      "needs_background": "light"
     },
     "output_type": "display_data"
    }
   ],
   "source": [
    "#reg plot for the model \n",
    "sns.regplot(x=y_test, y=y_pred_mlr,ci=None,color='blue')\n",
    "plt.xlabel('Actual')\n",
    "plt.ylabel('Predicted')"
   ]
  },
  {
   "cell_type": "code",
   "execution_count": 32,
   "metadata": {
    "application/vnd.databricks.v1+cell": {
     "cellMetadata": {},
     "inputWidgets": {},
     "nuid": "755b6059-c16f-4b6d-8e94-a78989c38ee2",
     "showTitle": false,
     "title": ""
    }
   },
   "outputs": [
    {
     "data": {
      "text/html": [
       "<div>\n",
       "<style scoped>\n",
       "    .dataframe tbody tr th:only-of-type {\n",
       "        vertical-align: middle;\n",
       "    }\n",
       "\n",
       "    .dataframe tbody tr th {\n",
       "        vertical-align: top;\n",
       "    }\n",
       "\n",
       "    .dataframe thead th {\n",
       "        text-align: right;\n",
       "    }\n",
       "</style>\n",
       "<table border=\"1\" class=\"dataframe\">\n",
       "  <thead>\n",
       "    <tr style=\"text-align: right;\">\n",
       "      <th></th>\n",
       "      <th>Actual Value</th>\n",
       "      <th>Predicted Value</th>\n",
       "      <th>Difference</th>\n",
       "    </tr>\n",
       "  </thead>\n",
       "  <tbody>\n",
       "    <tr>\n",
       "      <th>4383</th>\n",
       "      <td>0.561339</td>\n",
       "      <td>0.608568</td>\n",
       "      <td>-0.047228</td>\n",
       "    </tr>\n",
       "    <tr>\n",
       "      <th>1205</th>\n",
       "      <td>1.174391</td>\n",
       "      <td>0.996602</td>\n",
       "      <td>0.177789</td>\n",
       "    </tr>\n",
       "    <tr>\n",
       "      <th>7204</th>\n",
       "      <td>0.538883</td>\n",
       "      <td>0.464728</td>\n",
       "      <td>0.074155</td>\n",
       "    </tr>\n",
       "    <tr>\n",
       "      <th>1769</th>\n",
       "      <td>0.019046</td>\n",
       "      <td>0.063497</td>\n",
       "      <td>-0.044451</td>\n",
       "    </tr>\n",
       "    <tr>\n",
       "      <th>929</th>\n",
       "      <td>4.510041</td>\n",
       "      <td>3.984079</td>\n",
       "      <td>0.525962</td>\n",
       "    </tr>\n",
       "    <tr>\n",
       "      <th>...</th>\n",
       "      <td>...</td>\n",
       "      <td>...</td>\n",
       "      <td>...</td>\n",
       "    </tr>\n",
       "    <tr>\n",
       "      <th>5101</th>\n",
       "      <td>0.164732</td>\n",
       "      <td>0.443343</td>\n",
       "      <td>-0.278611</td>\n",
       "    </tr>\n",
       "    <tr>\n",
       "      <th>7026</th>\n",
       "      <td>0.403881</td>\n",
       "      <td>0.372979</td>\n",
       "      <td>0.030903</td>\n",
       "    </tr>\n",
       "    <tr>\n",
       "      <th>7568</th>\n",
       "      <td>1.201180</td>\n",
       "      <td>1.091393</td>\n",
       "      <td>0.109787</td>\n",
       "    </tr>\n",
       "    <tr>\n",
       "      <th>5113</th>\n",
       "      <td>2.271275</td>\n",
       "      <td>3.195394</td>\n",
       "      <td>-0.924119</td>\n",
       "    </tr>\n",
       "    <tr>\n",
       "      <th>6996</th>\n",
       "      <td>0.026470</td>\n",
       "      <td>0.254105</td>\n",
       "      <td>-0.227635</td>\n",
       "    </tr>\n",
       "  </tbody>\n",
       "</table>\n",
       "<p>1631 rows × 3 columns</p>\n",
       "</div>"
      ],
      "text/plain": [
       "      Actual Value  Predicted Value  Difference\n",
       "4383      0.561339         0.608568   -0.047228\n",
       "1205      1.174391         0.996602    0.177789\n",
       "7204      0.538883         0.464728    0.074155\n",
       "1769      0.019046         0.063497   -0.044451\n",
       "929       4.510041         3.984079    0.525962\n",
       "...            ...              ...         ...\n",
       "5101      0.164732         0.443343   -0.278611\n",
       "7026      0.403881         0.372979    0.030903\n",
       "7568      1.201180         1.091393    0.109787\n",
       "5113      2.271275         3.195394   -0.924119\n",
       "6996      0.026470         0.254105   -0.227635\n",
       "\n",
       "[1631 rows x 3 columns]"
      ]
     },
     "execution_count": 32,
     "metadata": {},
     "output_type": "execute_result"
    }
   ],
   "source": [
    "#difference between the predicted values and actual values\n",
    "pred_df = pd.DataFrame({'Actual Value':y_test,'Predicted Value':y_pred_mlr,'Difference':y_test - y_pred_mlr})\n",
    "pred_df"
   ]
  },
  {
   "cell_type": "code",
   "execution_count": null,
   "metadata": {},
   "outputs": [],
   "source": []
  },
  {
   "cell_type": "code",
   "execution_count": null,
   "metadata": {},
   "outputs": [],
   "source": []
  },
  {
   "cell_type": "code",
   "execution_count": null,
   "metadata": {},
   "outputs": [],
   "source": []
  }
 ],
 "metadata": {
  "application/vnd.databricks.v1+notebook": {
   "dashboards": [],
   "language": "python",
   "notebookMetadata": {
    "pythonIndentUnit": 4
   },
   "notebookName": "MLR",
   "widgets": {}
  },
  "kernelspec": {
   "display_name": "Python 3",
   "language": "python",
   "name": "python3"
  },
  "language_info": {
   "codemirror_mode": {
    "name": "ipython",
    "version": 3
   },
   "file_extension": ".py",
   "mimetype": "text/x-python",
   "name": "python",
   "nbconvert_exporter": "python",
   "pygments_lexer": "ipython3",
   "version": "3.8.8"
  }
 },
 "nbformat": 4,
 "nbformat_minor": 1
}
